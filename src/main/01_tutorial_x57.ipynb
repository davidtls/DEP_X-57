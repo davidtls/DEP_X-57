{
 "cells": [
  {
   "cell_type": "markdown",
   "metadata": {},
   "source": [
    "<div class=\"row\">\n",
    "  <div class=\"column\">\n",
    "    <img src=\"./img/logo-onera.png\" width=\"200\">\n",
    "  </div>\n",
    "  <div class=\"column\">\n",
    "    <img src=\"./img/logo-ISAE_SUPAERO.png\" width=\"200\">\n",
    "  </div>\n",
    "</div>"
   ]
  },
  {
   "cell_type": "markdown",
   "metadata": {},
   "source": [
    "# FAST-OAD-GA Tutorial"
   ]
  },
  {
   "cell_type": "markdown",
   "metadata": {},
   "source": [
    "FAST-OAD-GA is an add-on package for [FAST-OAD framework](https://github.com/fast-aircraft-design/FAST-OAD) for performing rapid Overall Aircraft Design in the category General Aviation (GA). The computational core of FAST-OAD being based on the  [OpenMDAO framework](https://openmdao.org/)."
   ]
  },
  {
   "cell_type": "code",
   "execution_count": null,
   "metadata": {},
   "outputs": [],
   "source": [
    "import warnings\n",
    "\n",
    "warnings.filterwarnings(action=\"ignore\")"
   ]
  },
  {
   "cell_type": "markdown",
   "metadata": {},
   "source": [
    "## 1. Setting up and analyzing the initial problem"
   ]
  },
  {
   "cell_type": "markdown",
   "metadata": {},
   "source": [
    "To organize our work, we propose to use two user folders `data/` and `workdir/`. For instance, in `data/` we store a XML file which describes the Beechcraft Duchess. In `workdir/`, we store files generated or modified by FAST-OAD."
   ]
  },
  {
   "cell_type": "code",
   "execution_count": 1,
   "metadata": {},
   "outputs": [
    {
     "data": {
      "text/html": [
       "<style>.container { width:95% !important; }</style>"
      ],
      "text/plain": [
       "<IPython.core.display.HTML object>"
      ]
     },
     "metadata": {},
     "output_type": "display_data"
    }
   ],
   "source": [
    "import os.path as pth\n",
    "import os\n",
    "import openmdao.api as om\n",
    "from fastoad import api as api_cs25\n",
    "from fastga.command import api as api_cs23\n",
    "import logging\n",
    "from fastoad.gui import VariableViewer\n",
    "import shutil\n",
    "\n",
    "DATA_FOLDER_PATH = \"data\"\n",
    "CONFIG_FOLDER_PATH = \"ConfigFiles\"\n",
    "INPUT_FOLDER_PATH = \"InputFiles\"\n",
    "OUTPUT_FOLDER_PATH = \"OutputFiles\"\n",
    "\n",
    "# Define files\n",
    "CONFIGURATION_FILE = pth.join(CONFIG_FOLDER_PATH, \"oad_process_X57.yml\")\n",
    "SOURCE_FILE = pth.join(DATA_FOLDER_PATH, \"x57_mission.xml\")\n",
    "INPUT_FILE = pth.join(INPUT_FOLDER_PATH, \"problem_inputs_X_57.xml\") # the name of this file is defined in the configuration file\n",
    "OUTPUT_FILE = pth.join(OUTPUT_FOLDER_PATH, \"problem_outputs_X_57.xml\") # the name of this file is defined in the configuration file\n",
    "\n",
    "# For having log messages on screen\n",
    "logging.basicConfig(level=logging.INFO, format=\"%(levelname)-8s: %(message)s\")\n",
    "\n",
    "# For using all screen width\n",
    "from IPython.core.display import display, HTML\n",
    "\n",
    "display(HTML(\"<style>.container { width:95% !important; }</style>\"))"
   ]
  },
  {
   "cell_type": "markdown",
   "metadata": {},
   "source": [
    "The input file should be regenerated each time the workflow in the configuration file is changed."
   ]
  },
  {
   "cell_type": "code",
   "execution_count": null,
   "metadata": {},
   "outputs": [],
   "source": [
    "api_cs25.generate_inputs(CONFIGURATION_FILE, SOURCE_FILE, overwrite=True)"
   ]
  },
  {
   "cell_type": "markdown",
   "metadata": {},
   "source": [
    "To inspect the input file from the jupyter notebook:"
   ]
  },
  {
   "cell_type": "code",
   "execution_count": null,
   "metadata": {},
   "outputs": [],
   "source": [
    "api_cs25.variable_viewer(INPUT_FILE)"
   ]
  },
  {
   "cell_type": "markdown",
   "metadata": {},
   "source": [
    "Another useful feature is the [N2 diagram](http://openmdao.org/twodocs/versions/latest/basic_guide/make_n2.html) visualization available in OpenMDAO to see the structure of the model:"
   ]
  },
  {
   "cell_type": "code",
   "execution_count": null,
   "metadata": {},
   "outputs": [],
   "source": [
    "N2_FILE = pth.join(WORK_FOLDER_PATH, \"n2.html\")\n",
    "api_cs25.write_n2(CONFIGURATION_FILE, N2_FILE, overwrite=True)\n",
    "from IPython.display import IFrame\n",
    "\n",
    "IFrame(src=N2_FILE, width=\"100%\", height=\"500px\")"
   ]
  },
  {
   "cell_type": "markdown",
   "metadata": {},
   "source": [
    "### Running the MDA\n"
   ]
  },
  {
   "cell_type": "code",
   "execution_count": null,
   "metadata": {},
   "outputs": [],
   "source": [
    "eval_problem = api_cs25.evaluate_problem(CONFIGURATION_FILE, overwrite=True)"
   ]
  },
  {
   "cell_type": "markdown",
   "metadata": {},
   "source": [
    "After the MDA has converged, it is possible to inspect the output file"
   ]
  },
  {
   "cell_type": "code",
   "execution_count": null,
   "metadata": {},
   "outputs": [],
   "source": [
    "api_cs25.variable_viewer(OUTPUT_FILE)"
   ]
  },
  {
   "cell_type": "markdown",
   "metadata": {},
   "source": [
    "To quickly view the geometry of the aircraft, it is possible to use a some GUI functionality"
   ]
  },
  {
   "cell_type": "code",
   "execution_count": 2,
   "metadata": {},
   "outputs": [
    {
     "data": {
      "application/vnd.plotly.v1+json": {
       "config": {
        "plotlyServerURL": "https://plot.ly"
       },
       "data": [
        {
         "mode": "lines+markers",
         "name": "",
         "showlegend": true,
         "type": "scatter",
         "uid": "6eab987d-fcf6-4b7d-a6c0-97eea393e5d8",
         "x": [
          0,
          -0.29945,
          -0.5989,
          -0.5989,
          -0.29945,
          0,
          0,
          -0.5989,
          0,
          -6.283307846121288,
          -6.283307846121288,
          0,
          -0.5989,
          0,
          0,
          0,
          -1.3955466369540193,
          -1.3955466369540193,
          0,
          0,
          0,
          0.29945,
          0.5989,
          0.5989,
          0.29945,
          0,
          0,
          0.5989,
          0,
          6.283307846121288,
          6.283307846121288,
          0,
          0.5989,
          0,
          0,
          0,
          1.3955466369540193,
          1.3955466369540193,
          0,
          0
         ],
         "y": [
          0,
          0,
          1.87292,
          4.787423102453278,
          9.163123772120384,
          9.163123772120384,
          3.3872675480263488,
          3.3872675480263488,
          3.3663534991777415,
          3.658469890350798,
          4.336988721858473,
          4.335666115617278,
          4.3565801644658855,
          4.3565801644658855,
          3.3872675480263488,
          8.185793852544947,
          8.190689851445443,
          8.80327548083541,
          8.951525889282406,
          8.185793852544947,
          0,
          0,
          1.87292,
          4.787423102453278,
          9.163123772120384,
          9.163123772120384,
          3.3872675480263488,
          3.3872675480263488,
          3.3663534991777415,
          3.658469890350798,
          4.336988721858473,
          4.335666115617278,
          4.3565801644658855,
          4.3565801644658855,
          3.3872675480263488,
          8.185793852544947,
          8.190689851445443,
          8.80327548083541,
          8.951525889282406,
          8.185793852544947
         ]
        },
        {
         "legendgroup": "nacelle",
         "legendgrouptitle": {
          "text": " nacelle + propeller"
         },
         "line": {
          "color": "rgb(140, 86, 75)"
         },
         "mode": "lines+markers",
         "name": "right nacelle",
         "type": "scatter",
         "uid": "4189b446-228f-40aa-b982-78658a300c18",
         "x": [
          -1.1016427020392419,
          -1.1016427020392419,
          -1.2608810481023625,
          -1.2608810481023625,
          -1.4612618750708022,
          -0.9012618750708021
         ],
         "y": [
          3.41413547879601,
          2.9798490804420448,
          2.9798490804420448,
          3.41413547879601,
          3.41413547879601,
          3.41413547879601
         ]
        },
        {
         "legendgroup": "nacelle",
         "line": {
          "color": "rgb(140, 86, 75)"
         },
         "mode": "lines+markers",
         "name": "left nacelle",
         "type": "scatter",
         "uid": "78718c4f-b433-44ca-a098-a1e3319b757a",
         "x": [
          1.1016427020392419,
          1.1016427020392419,
          1.2608810481023625,
          1.2608810481023625,
          1.4612618750708022,
          0.9012618750708021
         ],
         "y": [
          3.41413547879601,
          2.9798490804420448,
          2.9798490804420448,
          3.41413547879601,
          3.41413547879601,
          3.41413547879601
         ]
        },
        {
         "legendgroup": "nacelle",
         "legendgrouptitle": {
          "text": " nacelle + propeller"
         },
         "line": {
          "color": "rgb(140, 86, 75)"
         },
         "mode": "lines+markers",
         "name": "right nacelle",
         "type": "scatter",
         "uid": "dc3e721a-382c-4345-b18b-e021e3997545",
         "x": [
          -1.8524979896507359,
          -1.8524979896507359,
          -2.0117363357138562,
          -2.0117363357138562,
          -2.212117162682296,
          -1.6521171626822961
         ],
         "y": [
          3.4499586847058183,
          3.0156722863518532,
          3.0156722863518532,
          3.4499586847058183,
          3.4499586847058183,
          3.4499586847058183
         ]
        },
        {
         "legendgroup": "nacelle",
         "line": {
          "color": "rgb(140, 86, 75)"
         },
         "mode": "lines+markers",
         "name": "left nacelle",
         "type": "scatter",
         "uid": "7a0c53fd-6eea-4ee9-af56-284a42f8e555",
         "x": [
          1.8524979896507359,
          1.8524979896507359,
          2.0117363357138562,
          2.0117363357138562,
          2.212117162682296,
          1.6521171626822961
         ],
         "y": [
          3.4499586847058183,
          3.0156722863518532,
          3.0156722863518532,
          3.4499586847058183,
          3.4499586847058183,
          3.4499586847058183
         ]
        },
        {
         "legendgroup": "nacelle",
         "legendgrouptitle": {
          "text": " nacelle + propeller"
         },
         "line": {
          "color": "rgb(140, 86, 75)"
         },
         "mode": "lines+markers",
         "name": "right nacelle",
         "type": "scatter",
         "uid": "ecdd602c-3d93-4bfd-bdcf-acf93668ffba",
         "x": [
          -2.602724946477618,
          -2.602724946477618,
          -2.7619632925407385,
          -2.7619632925407385,
          -2.9623441195091784,
          -2.402344119509178
         ],
         "y": [
          3.48575191303746,
          3.051465514683495,
          3.051465514683495,
          3.48575191303746,
          3.48575191303746,
          3.48575191303746
         ]
        },
        {
         "legendgroup": "nacelle",
         "line": {
          "color": "rgb(140, 86, 75)"
         },
         "mode": "lines+markers",
         "name": "left nacelle",
         "type": "scatter",
         "uid": "4c049997-8956-4c33-a62b-780a4d03c637",
         "x": [
          2.602724946477618,
          2.602724946477618,
          2.7619632925407385,
          2.7619632925407385,
          2.9623441195091784,
          2.402344119509178
         ],
         "y": [
          3.48575191303746,
          3.051465514683495,
          3.051465514683495,
          3.48575191303746,
          3.48575191303746,
          3.48575191303746
         ]
        },
        {
         "legendgroup": "nacelle",
         "legendgrouptitle": {
          "text": " nacelle + propeller"
         },
         "line": {
          "color": "rgb(140, 86, 75)"
         },
         "mode": "lines+markers",
         "name": "right nacelle",
         "type": "scatter",
         "uid": "425b92fd-238b-403e-b431-bacdf81608b0",
         "x": [
          -3.3523235725198877,
          -3.3523235725198877,
          -3.5115619185830083,
          -3.5115619185830083,
          -3.7119427455514478,
          -3.151942745551448
         ],
         "y": [
          3.521515163790934,
          3.087228765436969,
          3.087228765436969,
          3.521515163790934,
          3.521515163790934,
          3.521515163790934
         ]
        },
        {
         "legendgroup": "nacelle",
         "line": {
          "color": "rgb(140, 86, 75)"
         },
         "mode": "lines+markers",
         "name": "left nacelle",
         "type": "scatter",
         "uid": "f0eefc81-e0ed-4dbf-a415-f56c1a632a97",
         "x": [
          3.3523235725198877,
          3.3523235725198877,
          3.5115619185830083,
          3.5115619185830083,
          3.7119427455514478,
          3.151942745551448
         ],
         "y": [
          3.521515163790934,
          3.087228765436969,
          3.087228765436969,
          3.521515163790934,
          3.521515163790934,
          3.521515163790934
         ]
        },
        {
         "legendgroup": "nacelle",
         "legendgrouptitle": {
          "text": " nacelle + propeller"
         },
         "line": {
          "color": "rgb(140, 86, 75)"
         },
         "mode": "lines+markers",
         "name": "right nacelle",
         "type": "scatter",
         "uid": "6820c25e-6e13-4d1f-a3b7-1d3c83677c67",
         "x": [
          -4.11134716033134,
          -4.11134716033134,
          -4.270585506394459,
          -4.270585506394459,
          -4.4709663333629,
          -3.9109663333628992
         ],
         "y": [
          3.5577280782169165,
          3.1234416798629514,
          3.1234416798629514,
          3.5577280782169165,
          3.5577280782169165,
          3.5577280782169165
         ]
        },
        {
         "legendgroup": "nacelle",
         "line": {
          "color": "rgb(140, 86, 75)"
         },
         "mode": "lines+markers",
         "name": "left nacelle",
         "type": "scatter",
         "uid": "0c0be12c-e6e6-4a06-abd9-bd7687b05de8",
         "x": [
          4.11134716033134,
          4.11134716033134,
          4.270585506394459,
          4.270585506394459,
          4.4709663333629,
          3.9109663333628992
         ],
         "y": [
          3.5577280782169165,
          3.1234416798629514,
          3.1234416798629514,
          3.5577280782169165,
          3.5577280782169165,
          3.5577280782169165
         ]
        },
        {
         "legendgroup": "nacelle",
         "legendgrouptitle": {
          "text": " nacelle + propeller"
         },
         "line": {
          "color": "rgb(140, 86, 75)"
         },
         "mode": "lines+markers",
         "name": "right nacelle",
         "type": "scatter",
         "uid": "89f51948-c97e-49b7-ae04-b9c5ac04f7d1",
         "x": [
          -4.852777486173652,
          -4.852777486173652,
          -5.012015832236772,
          -5.012015832236772,
          -5.212396659205212,
          -4.652396659205212
         ],
         "y": [
          3.593101620454217,
          3.158815222100252,
          3.158815222100252,
          3.593101620454217,
          3.593101620454217,
          3.593101620454217
         ]
        },
        {
         "legendgroup": "nacelle",
         "line": {
          "color": "rgb(140, 86, 75)"
         },
         "mode": "lines+markers",
         "name": "left nacelle",
         "type": "scatter",
         "uid": "e082c07d-8a64-4abe-aa6d-80fa1ba49601",
         "x": [
          4.852777486173652,
          4.852777486173652,
          5.012015832236772,
          5.012015832236772,
          5.212396659205212,
          4.652396659205212
         ],
         "y": [
          3.593101620454217,
          3.158815222100252,
          3.158815222100252,
          3.593101620454217,
          3.593101620454217,
          3.593101620454217
         ]
        }
       ],
       "layout": {
        "legend": {
         "x": 0.99,
         "xanchor": "right",
         "y": 0.99,
         "yanchor": "top"
        },
        "template": {
         "data": {
          "bar": [
           {
            "error_x": {
             "color": "#2a3f5f"
            },
            "error_y": {
             "color": "#2a3f5f"
            },
            "marker": {
             "line": {
              "color": "#E5ECF6",
              "width": 0.5
             },
             "pattern": {
              "fillmode": "overlay",
              "size": 10,
              "solidity": 0.2
             }
            },
            "type": "bar"
           }
          ],
          "barpolar": [
           {
            "marker": {
             "line": {
              "color": "#E5ECF6",
              "width": 0.5
             },
             "pattern": {
              "fillmode": "overlay",
              "size": 10,
              "solidity": 0.2
             }
            },
            "type": "barpolar"
           }
          ],
          "carpet": [
           {
            "aaxis": {
             "endlinecolor": "#2a3f5f",
             "gridcolor": "white",
             "linecolor": "white",
             "minorgridcolor": "white",
             "startlinecolor": "#2a3f5f"
            },
            "baxis": {
             "endlinecolor": "#2a3f5f",
             "gridcolor": "white",
             "linecolor": "white",
             "minorgridcolor": "white",
             "startlinecolor": "#2a3f5f"
            },
            "type": "carpet"
           }
          ],
          "choropleth": [
           {
            "colorbar": {
             "outlinewidth": 0,
             "ticks": ""
            },
            "type": "choropleth"
           }
          ],
          "contour": [
           {
            "colorbar": {
             "outlinewidth": 0,
             "ticks": ""
            },
            "colorscale": [
             [
              0,
              "#0d0887"
             ],
             [
              0.1111111111111111,
              "#46039f"
             ],
             [
              0.2222222222222222,
              "#7201a8"
             ],
             [
              0.3333333333333333,
              "#9c179e"
             ],
             [
              0.4444444444444444,
              "#bd3786"
             ],
             [
              0.5555555555555556,
              "#d8576b"
             ],
             [
              0.6666666666666666,
              "#ed7953"
             ],
             [
              0.7777777777777778,
              "#fb9f3a"
             ],
             [
              0.8888888888888888,
              "#fdca26"
             ],
             [
              1,
              "#f0f921"
             ]
            ],
            "type": "contour"
           }
          ],
          "contourcarpet": [
           {
            "colorbar": {
             "outlinewidth": 0,
             "ticks": ""
            },
            "type": "contourcarpet"
           }
          ],
          "heatmap": [
           {
            "colorbar": {
             "outlinewidth": 0,
             "ticks": ""
            },
            "colorscale": [
             [
              0,
              "#0d0887"
             ],
             [
              0.1111111111111111,
              "#46039f"
             ],
             [
              0.2222222222222222,
              "#7201a8"
             ],
             [
              0.3333333333333333,
              "#9c179e"
             ],
             [
              0.4444444444444444,
              "#bd3786"
             ],
             [
              0.5555555555555556,
              "#d8576b"
             ],
             [
              0.6666666666666666,
              "#ed7953"
             ],
             [
              0.7777777777777778,
              "#fb9f3a"
             ],
             [
              0.8888888888888888,
              "#fdca26"
             ],
             [
              1,
              "#f0f921"
             ]
            ],
            "type": "heatmap"
           }
          ],
          "heatmapgl": [
           {
            "colorbar": {
             "outlinewidth": 0,
             "ticks": ""
            },
            "colorscale": [
             [
              0,
              "#0d0887"
             ],
             [
              0.1111111111111111,
              "#46039f"
             ],
             [
              0.2222222222222222,
              "#7201a8"
             ],
             [
              0.3333333333333333,
              "#9c179e"
             ],
             [
              0.4444444444444444,
              "#bd3786"
             ],
             [
              0.5555555555555556,
              "#d8576b"
             ],
             [
              0.6666666666666666,
              "#ed7953"
             ],
             [
              0.7777777777777778,
              "#fb9f3a"
             ],
             [
              0.8888888888888888,
              "#fdca26"
             ],
             [
              1,
              "#f0f921"
             ]
            ],
            "type": "heatmapgl"
           }
          ],
          "histogram": [
           {
            "marker": {
             "pattern": {
              "fillmode": "overlay",
              "size": 10,
              "solidity": 0.2
             }
            },
            "type": "histogram"
           }
          ],
          "histogram2d": [
           {
            "colorbar": {
             "outlinewidth": 0,
             "ticks": ""
            },
            "colorscale": [
             [
              0,
              "#0d0887"
             ],
             [
              0.1111111111111111,
              "#46039f"
             ],
             [
              0.2222222222222222,
              "#7201a8"
             ],
             [
              0.3333333333333333,
              "#9c179e"
             ],
             [
              0.4444444444444444,
              "#bd3786"
             ],
             [
              0.5555555555555556,
              "#d8576b"
             ],
             [
              0.6666666666666666,
              "#ed7953"
             ],
             [
              0.7777777777777778,
              "#fb9f3a"
             ],
             [
              0.8888888888888888,
              "#fdca26"
             ],
             [
              1,
              "#f0f921"
             ]
            ],
            "type": "histogram2d"
           }
          ],
          "histogram2dcontour": [
           {
            "colorbar": {
             "outlinewidth": 0,
             "ticks": ""
            },
            "colorscale": [
             [
              0,
              "#0d0887"
             ],
             [
              0.1111111111111111,
              "#46039f"
             ],
             [
              0.2222222222222222,
              "#7201a8"
             ],
             [
              0.3333333333333333,
              "#9c179e"
             ],
             [
              0.4444444444444444,
              "#bd3786"
             ],
             [
              0.5555555555555556,
              "#d8576b"
             ],
             [
              0.6666666666666666,
              "#ed7953"
             ],
             [
              0.7777777777777778,
              "#fb9f3a"
             ],
             [
              0.8888888888888888,
              "#fdca26"
             ],
             [
              1,
              "#f0f921"
             ]
            ],
            "type": "histogram2dcontour"
           }
          ],
          "mesh3d": [
           {
            "colorbar": {
             "outlinewidth": 0,
             "ticks": ""
            },
            "type": "mesh3d"
           }
          ],
          "parcoords": [
           {
            "line": {
             "colorbar": {
              "outlinewidth": 0,
              "ticks": ""
             }
            },
            "type": "parcoords"
           }
          ],
          "pie": [
           {
            "automargin": true,
            "type": "pie"
           }
          ],
          "scatter": [
           {
            "fillpattern": {
             "fillmode": "overlay",
             "size": 10,
             "solidity": 0.2
            },
            "type": "scatter"
           }
          ],
          "scatter3d": [
           {
            "line": {
             "colorbar": {
              "outlinewidth": 0,
              "ticks": ""
             }
            },
            "marker": {
             "colorbar": {
              "outlinewidth": 0,
              "ticks": ""
             }
            },
            "type": "scatter3d"
           }
          ],
          "scattercarpet": [
           {
            "marker": {
             "colorbar": {
              "outlinewidth": 0,
              "ticks": ""
             }
            },
            "type": "scattercarpet"
           }
          ],
          "scattergeo": [
           {
            "marker": {
             "colorbar": {
              "outlinewidth": 0,
              "ticks": ""
             }
            },
            "type": "scattergeo"
           }
          ],
          "scattergl": [
           {
            "marker": {
             "colorbar": {
              "outlinewidth": 0,
              "ticks": ""
             }
            },
            "type": "scattergl"
           }
          ],
          "scattermapbox": [
           {
            "marker": {
             "colorbar": {
              "outlinewidth": 0,
              "ticks": ""
             }
            },
            "type": "scattermapbox"
           }
          ],
          "scatterpolar": [
           {
            "marker": {
             "colorbar": {
              "outlinewidth": 0,
              "ticks": ""
             }
            },
            "type": "scatterpolar"
           }
          ],
          "scatterpolargl": [
           {
            "marker": {
             "colorbar": {
              "outlinewidth": 0,
              "ticks": ""
             }
            },
            "type": "scatterpolargl"
           }
          ],
          "scatterternary": [
           {
            "marker": {
             "colorbar": {
              "outlinewidth": 0,
              "ticks": ""
             }
            },
            "type": "scatterternary"
           }
          ],
          "surface": [
           {
            "colorbar": {
             "outlinewidth": 0,
             "ticks": ""
            },
            "colorscale": [
             [
              0,
              "#0d0887"
             ],
             [
              0.1111111111111111,
              "#46039f"
             ],
             [
              0.2222222222222222,
              "#7201a8"
             ],
             [
              0.3333333333333333,
              "#9c179e"
             ],
             [
              0.4444444444444444,
              "#bd3786"
             ],
             [
              0.5555555555555556,
              "#d8576b"
             ],
             [
              0.6666666666666666,
              "#ed7953"
             ],
             [
              0.7777777777777778,
              "#fb9f3a"
             ],
             [
              0.8888888888888888,
              "#fdca26"
             ],
             [
              1,
              "#f0f921"
             ]
            ],
            "type": "surface"
           }
          ],
          "table": [
           {
            "cells": {
             "fill": {
              "color": "#EBF0F8"
             },
             "line": {
              "color": "white"
             }
            },
            "header": {
             "fill": {
              "color": "#C8D4E3"
             },
             "line": {
              "color": "white"
             }
            },
            "type": "table"
           }
          ]
         },
         "layout": {
          "annotationdefaults": {
           "arrowcolor": "#2a3f5f",
           "arrowhead": 0,
           "arrowwidth": 1
          },
          "autotypenumbers": "strict",
          "coloraxis": {
           "colorbar": {
            "outlinewidth": 0,
            "ticks": ""
           }
          },
          "colorscale": {
           "diverging": [
            [
             0,
             "#8e0152"
            ],
            [
             0.1,
             "#c51b7d"
            ],
            [
             0.2,
             "#de77ae"
            ],
            [
             0.3,
             "#f1b6da"
            ],
            [
             0.4,
             "#fde0ef"
            ],
            [
             0.5,
             "#f7f7f7"
            ],
            [
             0.6,
             "#e6f5d0"
            ],
            [
             0.7,
             "#b8e186"
            ],
            [
             0.8,
             "#7fbc41"
            ],
            [
             0.9,
             "#4d9221"
            ],
            [
             1,
             "#276419"
            ]
           ],
           "sequential": [
            [
             0,
             "#0d0887"
            ],
            [
             0.1111111111111111,
             "#46039f"
            ],
            [
             0.2222222222222222,
             "#7201a8"
            ],
            [
             0.3333333333333333,
             "#9c179e"
            ],
            [
             0.4444444444444444,
             "#bd3786"
            ],
            [
             0.5555555555555556,
             "#d8576b"
            ],
            [
             0.6666666666666666,
             "#ed7953"
            ],
            [
             0.7777777777777778,
             "#fb9f3a"
            ],
            [
             0.8888888888888888,
             "#fdca26"
            ],
            [
             1,
             "#f0f921"
            ]
           ],
           "sequentialminus": [
            [
             0,
             "#0d0887"
            ],
            [
             0.1111111111111111,
             "#46039f"
            ],
            [
             0.2222222222222222,
             "#7201a8"
            ],
            [
             0.3333333333333333,
             "#9c179e"
            ],
            [
             0.4444444444444444,
             "#bd3786"
            ],
            [
             0.5555555555555556,
             "#d8576b"
            ],
            [
             0.6666666666666666,
             "#ed7953"
            ],
            [
             0.7777777777777778,
             "#fb9f3a"
            ],
            [
             0.8888888888888888,
             "#fdca26"
            ],
            [
             1,
             "#f0f921"
            ]
           ]
          },
          "colorway": [
           "#636efa",
           "#EF553B",
           "#00cc96",
           "#ab63fa",
           "#FFA15A",
           "#19d3f3",
           "#FF6692",
           "#B6E880",
           "#FF97FF",
           "#FECB52"
          ],
          "font": {
           "color": "#2a3f5f"
          },
          "geo": {
           "bgcolor": "white",
           "lakecolor": "white",
           "landcolor": "#E5ECF6",
           "showlakes": true,
           "showland": true,
           "subunitcolor": "white"
          },
          "hoverlabel": {
           "align": "left"
          },
          "hovermode": "closest",
          "mapbox": {
           "style": "light"
          },
          "paper_bgcolor": "white",
          "plot_bgcolor": "#E5ECF6",
          "polar": {
           "angularaxis": {
            "gridcolor": "white",
            "linecolor": "white",
            "ticks": ""
           },
           "bgcolor": "#E5ECF6",
           "radialaxis": {
            "gridcolor": "white",
            "linecolor": "white",
            "ticks": ""
           }
          },
          "scene": {
           "xaxis": {
            "backgroundcolor": "#E5ECF6",
            "gridcolor": "white",
            "gridwidth": 2,
            "linecolor": "white",
            "showbackground": true,
            "ticks": "",
            "zerolinecolor": "white"
           },
           "yaxis": {
            "backgroundcolor": "#E5ECF6",
            "gridcolor": "white",
            "gridwidth": 2,
            "linecolor": "white",
            "showbackground": true,
            "ticks": "",
            "zerolinecolor": "white"
           },
           "zaxis": {
            "backgroundcolor": "#E5ECF6",
            "gridcolor": "white",
            "gridwidth": 2,
            "linecolor": "white",
            "showbackground": true,
            "ticks": "",
            "zerolinecolor": "white"
           }
          },
          "shapedefaults": {
           "line": {
            "color": "#2a3f5f"
           }
          },
          "ternary": {
           "aaxis": {
            "gridcolor": "white",
            "linecolor": "white",
            "ticks": ""
           },
           "baxis": {
            "gridcolor": "white",
            "linecolor": "white",
            "ticks": ""
           },
           "bgcolor": "#E5ECF6",
           "caxis": {
            "gridcolor": "white",
            "linecolor": "white",
            "ticks": ""
           }
          },
          "title": {
           "x": 0.05
          },
          "xaxis": {
           "automargin": true,
           "gridcolor": "white",
           "linecolor": "white",
           "ticks": "",
           "title": {
            "standoff": 15
           },
           "zerolinecolor": "white",
           "zerolinewidth": 2
          },
          "yaxis": {
           "automargin": true,
           "gridcolor": "white",
           "linecolor": "white",
           "ticks": "",
           "title": {
            "standoff": 15
           },
           "zerolinecolor": "white",
           "zerolinewidth": 2
          }
         }
        },
        "title": {
         "text": "Aircraft Geometry",
         "x": 0.5
        },
        "xaxis": {
         "title": {
          "text": "y"
         }
        },
        "yaxis": {
         "scaleanchor": "x",
         "scaleratio": 1,
         "title": {
          "text": "x"
         }
        }
       }
      }
     },
     "metadata": {},
     "output_type": "display_data"
    }
   ],
   "source": [
    "from fastga.utils.postprocessing.analysis_and_plots import (\n",
    "    aircraft_geometry_plot,\n",
    ")\n",
    "\n",
    "fig = aircraft_geometry_plot(OUTPUT_FILE)\n",
    "fig.show()"
   ]
  }
 ],
 "metadata": {
  "kernelspec": {
   "display_name": "Python 3 (ipykernel)",
   "language": "python",
   "name": "python3"
  },
  "language_info": {
   "codemirror_mode": {
    "name": "ipython",
    "version": 3
   },
   "file_extension": ".py",
   "mimetype": "text/x-python",
   "name": "python",
   "nbconvert_exporter": "python",
   "pygments_lexer": "ipython3",
   "version": "3.8.16"
  }
 },
 "nbformat": 4,
 "nbformat_minor": 4
}
